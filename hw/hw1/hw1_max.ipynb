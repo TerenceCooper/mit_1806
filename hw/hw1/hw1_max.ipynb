{
 "cells": [
  {
   "cell_type": "markdown",
   "metadata": {},
   "source": [
    "# Homework #1"
   ]
  },
  {
   "cell_type": "code",
   "execution_count": 2,
   "metadata": {
    "collapsed": true
   },
   "outputs": [],
   "source": [
    "import numpy as np"
   ]
  },
  {
   "cell_type": "markdown",
   "metadata": {},
   "source": [
    "1) What combination $c\\begin{bmatrix}1 \\\\ 2\\end{bmatrix}+d\\begin{bmatrix}3\\\\1\\end{bmatrix}$ produces $\\begin{bmatrix}14 \\\\ 8\\end{bmatrix}$? Express this question as two equations for the coefficients $c$ and $d$ in the linear combination.\n"
   ]
  },
  {
   "cell_type": "markdown",
   "metadata": {},
   "source": [
    "$c+3d=14$ *(1)*\n",
    "\n",
    "$2c+d=8$  *(2)*\n",
    "\n",
    "$\\implies d = 8-2c$ *(3)*\n",
    "\n",
    "(3) inside (1) $\\implies c + 24 - 6c = 14$\n",
    "\n",
    "$\\implies c = 10/5 = 2$ *(4)*\n",
    "\n",
    "(4) inside (3) $\\implies d = 8 - 4 = 4$"
   ]
  },
  {
   "cell_type": "markdown",
   "metadata": {},
   "source": [
    "2) Write the solution as a sum using `numpy`."
   ]
  },
  {
   "cell_type": "code",
   "execution_count": null,
   "metadata": {
    "collapsed": false
   },
   "outputs": [],
   "source": [
    "a = np.array([[1], [2]])\n",
    "b = np.array([[3], [1]])\n",
    "c = 2\n",
    "d = 4\n",
    "print(c*a+d*b)"
   ]
  },
  {
   "cell_type": "markdown",
   "metadata": {},
   "source": [
    "3) Can three vectors in the $xy$ plane (i.e. $\\mathbb R^2$) have $\\mathbf u\\cdot\\mathbf v < 0$, $\\mathbf v\\cdot\\mathbf w < 0$, and $\\mathbf u\\cdot\\mathbf w < 0$? I don't know how many vectors in $xyz$ (i.e. $\\mathbb R^3$) space can have all negative dot products. (Four of those vectors in the plane would certainly be impossible ...)."
   ]
  },
  {
   "cell_type": "raw",
   "metadata": {},
   "source": [
    "# AMPL code to solve the question using constrained optimization\n",
    "reset;\n",
    "\n",
    "# Initialize the vectors to small values before the optimization searches for a solution\n",
    "var u_x := -0.1;\n",
    "var u_y := -0.1;\n",
    "\n",
    "var v_x := -0.1;\n",
    "var v_y := -0.1;\n",
    "\n",
    "var w_x := -0.1;\n",
    "var w_y := -0.1;\n",
    "\n",
    "var t_x := -0.1;\n",
    "var t_y := -0.1;\n",
    "\n",
    "subject to\n",
    "1st_constraint: u_x*v_x + u_y*v_y <= -0.1;\n",
    "2nd_constraint: u_x*w_x + u_y*w_y <= -0.1;\n",
    "3rd_constraint: w_x*v_x + w_y*v_y <= -0.1;\n",
    "\n",
    "#4th_constraint: u_x*t_x + u_y*t_y <= -0.1;\n",
    "#5th_constraint: t_x*w_x + t_y*w_y <= -0.1;\n",
    "#6th_constraint: t_x*v_x + t_y*v_y <= -0.1;\n",
    "\n",
    "solve;\n",
    "\n",
    "display _var;\n",
    "\n",
    "# Variables 1 and 2 are (u_x, u_y) and so on.\n",
    "\n",
    "MINOS 5.51: optimal solution found.\n",
    "55 iterations, objective 0\n",
    "Nonlin evals: constrs = 130, Jac = 129.\n",
    "Objective = find a feasible point.\n",
    "_var [*] :=\n",
    "1   0.620918\n",
    "2   0.641332\n",
    "3  -0.10042\n",
    "4  -0.0587021\n",
    "5   2.5043\n",
    "6  -2.58051\n",
    "\n",
    "When I uncomment the forth vector, the solver can no longer find a solution:\n",
    "\n",
    "MINOS 5.51: unbounded (or badly scaled) problem.\n",
    "1067 iterations\n",
    "Nonlin evals: constrs = 2710, Jac = 2709.\n",
    "Objective = find a feasible point."
   ]
  },
  {
   "cell_type": "code",
   "execution_count": null,
   "metadata": {
    "collapsed": false
   },
   "outputs": [],
   "source": [
    "a = np.array([0.620918, 0.641332])\n",
    "b = np.array([-0.10042, -0.0587021])\n",
    "c = np.array([2.5043, -2.58051])\n",
    "print(np.dot(a,b))\n",
    "print(np.dot(a,c))\n",
    "print(np.dot(b,c))"
   ]
  },
  {
   "cell_type": "raw",
   "metadata": {},
   "source": [
    "# AMPL code to solve the question using constrained optimization\n",
    "reset;\n",
    "\n",
    "# Initialize the vectors to small values before the optimization searches for a solution\n",
    "var u_x := -0.1;\n",
    "var u_y := -0.1;\n",
    "var u_z := -0.1;\n",
    "\n",
    "var v_x := -0.1;\n",
    "var v_y := -0.1;\n",
    "var v_z := -0.1;\n",
    "\n",
    "var w_x := -0.1;\n",
    "var w_y := -0.1;\n",
    "var w_z := -0.1;\n",
    "\n",
    "var t_x := -0.1;\n",
    "var t_y := -0.1;\n",
    "var t_z := -0.1;\n",
    "\n",
    "var s_x := -0.1;\n",
    "var s_y := -0.1;\n",
    "var s_z := -0.1;\n",
    "\n",
    "subject to\n",
    "1st_constraint: u_x*v_x + u_y*v_y + u_z*v_z <= -0.1;\n",
    "2nd_constraint: u_x*w_x + u_y*w_y + u_z*w_z <= -0.1;\n",
    "3rd_constraint: w_x*v_x + w_y*v_y + w_z*v_z <= -0.1;\n",
    "\n",
    "4th_constraint: u_x*t_x + u_y*t_y + u_z*t_z <= -0.1;\n",
    "5th_constraint: t_x*w_x + t_y*w_y + t_z*w_z <= -0.1;\n",
    "6th_constraint: t_x*v_x + t_y*v_y + t_z*v_z <= -0.1;\n",
    "\n",
    "#7th_constraint:  s_x*t_x + s_y*t_y + s_z*t_z <= -0.1;\n",
    "#8th_constraint:  s_x*w_x + s_y*w_y + s_z*w_z <= -0.1;\n",
    "#9th_constraint:  s_x*v_x + s_y*v_y + s_z*v_z <= -0.1;\n",
    "#10th_constraint: u_x*s_x + u_y*s_y + u_z*s_z <= -0.1;\n",
    "\n",
    "solve;\n",
    "\n",
    "display _var;\n",
    "display _con;\n",
    "solve;\n",
    "\n",
    "display _var;\n",
    "\n",
    "# Variables 1, 2, 3 are (u_x, u_y, u_z) and so on.\n",
    "\n",
    "MINOS 5.51: optimal solution found.\n",
    "44 iterations, objective 0\n",
    "Nonlin evals: constrs = 97, Jac = 96.\n",
    "Objective = find a feasible point.\n",
    "_var [*] :=\n",
    " 1  -0.0999437\n",
    " 2  -0.1\n",
    " 3   0.741525\n",
    " 4   0.221245\n",
    " 5   0.420224\n",
    " 6  -0.1\n",
    " 7   2.10005\n",
    " 8  -1.45848\n",
    " 9  -0.0999533\n",
    "10  -0.184675\n",
    "11  -0.184683\n",
    "12  -0.184667\n",
    ";\n",
    "\n",
    "When I uncomment the fifth vector, the solver can no longer find a solution:\n",
    "\n",
    "MINOS 5.51: unbounded (or badly scaled) problem.\n",
    "1099 iterations\n",
    "Nonlin evals: constrs = 2696, Jac = 2695.\n",
    "Objective = find a feasible point."
   ]
  },
  {
   "cell_type": "code",
   "execution_count": null,
   "metadata": {
    "collapsed": false
   },
   "outputs": [],
   "source": [
    "a = np.array([-0.0999437,-0.1, 0.741525])\n",
    "b = np.array([0.221245, 0.420224, -0.1])\n",
    "c = np.array([2.10005, -1.45848, -0.0999533])\n",
    "d = np.array([-0.184675, -0.184683, -0.184667])\n",
    "print(np.dot(a,b))\n",
    "print(np.dot(a,c))\n",
    "print(np.dot(a,d))\n",
    "print(np.dot(b,c))\n",
    "print(np.dot(b,d))\n",
    "print(np.dot(c,d))"
   ]
  },
  {
   "cell_type": "markdown",
   "metadata": {},
   "source": [
    "4) Find four perpendicular unit vectors with all components equal to $\\frac{1}{2}$ or $-\\frac{1}{2}$."
   ]
  },
  {
   "cell_type": "raw",
   "metadata": {},
   "source": [
    "# AMPL code to solve the question using constrained optimization\n",
    "reset;\n",
    "\n",
    "var s_w binary;\n",
    "var s_x binary;\n",
    "var s_y binary;\n",
    "var s_z binary;\n",
    "\n",
    "var t_w binary;\n",
    "var t_x binary;\n",
    "var t_y binary;\n",
    "var t_z binary;\n",
    "\n",
    "var u_w binary;\n",
    "var u_x binary;\n",
    "var u_y binary;\n",
    "var u_z binary;\n",
    "\n",
    "var v_w binary;\n",
    "var v_x binary;\n",
    "var v_y binary;\n",
    "var v_z binary;\n",
    "\n",
    "subject to\n",
    "1st_constraint: (s_w-.5)*(t_w-.5) + (s_x-.5)*(t_x-.5) + (s_y-.5)*(t_y-.5) + (s_z-.5)*(t_z-.5) = 0;\n",
    "2nd_constraint: (s_w-.5)*(u_w-.5) + (s_x-.5)*(u_x-.5) + (s_y-.5)*(u_y-.5) + (s_z-.5)*(u_z-.5) = 0;\n",
    "3rd_constraint: (s_w-.5)*(v_w-.5) + (s_x-.5)*(v_x-.5) + (s_y-.5)*(v_y-.5) + (s_z-.5)*(v_z-.5) = 0;\n",
    "\n",
    "4th_constraint: (v_w-.5)*(t_w-.5) + (v_x-.5)*(t_x-.5) + (v_y-.5)*(t_y-.5) + (v_z-.5)*(t_z-.5) = 0;\n",
    "5th_constraint: (v_w-.5)*(u_w-.5) + (v_x-.5)*(u_x-.5) + (v_y-.5)*(u_y-.5) + (v_z-.5)*(u_z-.5) = 0;\n",
    "\n",
    "6th_constraint: (u_w-.5)*(t_w-.5) + (u_x-.5)*(t_x-.5) + (u_y-.5)*(t_y-.5) + (u_z-.5)*(t_z-.5) = 0;\n",
    "\n",
    "solve;\n",
    "\n",
    "display _var;\n",
    "\n",
    "# To get vector 1, substract .5 from variables (1, 2, 3, 4). \n",
    "# In otherwords, 0 becomes -0.5 and 1 becomes 0.5\n",
    "\n",
    "MINOS 5.51: optimal solution found.\n",
    "7 iterations, objective 0\n",
    "Nonlin evals: constrs = 13, Jac = 12.\n",
    "Objective = find a feasible point.\n",
    "_var [*] :=\n",
    " 1  0\n",
    " 2  1\n",
    " 3  0\n",
    " 4  0\n",
    " 5  0\n",
    " 6  0\n",
    " 7  0\n",
    " 8  1\n",
    " 9  0\n",
    "10  0\n",
    "11  1\n",
    "12  0\n",
    "13  1\n",
    "14  0\n",
    "15  0\n",
    "16  0"
   ]
  },
  {
   "cell_type": "code",
   "execution_count": null,
   "metadata": {
    "collapsed": false
   },
   "outputs": [],
   "source": [
    "a = np.array([-.5, .5, -.5, -.5])\n",
    "b = np.array([-.5, -.5, -.5, .5])\n",
    "c = np.array([-.5, -.5, .5, -.5])\n",
    "d = np.array([.5, -.5, -.5, -.5])\n",
    "print(np.dot(a,b))\n",
    "print(np.dot(a,c))\n",
    "print(np.dot(a,d))\n",
    "print(np.dot(b,c))\n",
    "print(np.dot(b,d))\n",
    "print(np.dot(c,d))"
   ]
  },
  {
   "cell_type": "markdown",
   "metadata": {},
   "source": [
    "5) Use `numpy` to show that these vectors are unit vectors. "
   ]
  },
  {
   "cell_type": "code",
   "execution_count": null,
   "metadata": {
    "collapsed": false
   },
   "outputs": [],
   "source": [
    "print(np.dot(a,a))\n",
    "print(np.dot(b,b))\n",
    "print(np.dot(c,c))\n",
    "print(np.dot(d,d))"
   ]
  },
  {
   "cell_type": "markdown",
   "metadata": {
    "collapsed": true
   },
   "source": [
    "6) Find a combination $\\alpha\\mathbf u+\\beta\\mathbf v+\\gamma\\mathbf w$ that gives the zero vector. \n",
    "\n",
    "\\begin{align*}\n",
    "\\mathbf{u}&=\\begin{bmatrix}1 \\\\ 2 \\\\ 3\\end{bmatrix} & \n",
    "\\mathbf{v}&=\\begin{bmatrix}4 \\\\ 5 \\\\ 6\\end{bmatrix} & \n",
    "\\mathbf{w}&=\\begin{bmatrix}7 \\\\ 8 \\\\ 9\\end{bmatrix}\n",
    "\\end{align*}\n",
    "\n",
    "Are $\\mathbf u$, $\\mathbf v$, $\\mathbf w$ independent or dependent? Why? \n",
    "\n",
    "If the three vectors form a matrix $A$ with those columns, is it invertible?\n"
   ]
  },
  {
   "cell_type": "markdown",
   "metadata": {},
   "source": [
    "**Answer:**\n",
    "\n",
    "Let's compute the determinant.\n",
    "<img src=\"https://wikimedia.org/api/rest_v1/media/math/render/svg/caae8224e861040e4075b43438a5beee31b9f700\">"
   ]
  },
  {
   "cell_type": "code",
   "execution_count": null,
   "metadata": {
    "collapsed": false
   },
   "outputs": [],
   "source": [
    "A = np.array([[1, 4, 7],[2, 5, 8],[3, 6, 9]])\n",
    "print(A)\n",
    "np.linalg.det(A)"
   ]
  },
  {
   "cell_type": "markdown",
   "metadata": {},
   "source": [
    "Since the determinant is 0, the vectors are dependant. In addition, the matrix is not invertible. Source: http://www.math.harvard.edu/~elkies/M21b.08/det.html"
   ]
  },
  {
   "cell_type": "markdown",
   "metadata": {},
   "source": [
    "7) Write $A$ as a matrix in `numpy`. Display the matrix. \n",
    "\n",
    "**NOTE:** Conversation about row order vs. column order. "
   ]
  },
  {
   "cell_type": "markdown",
   "metadata": {},
   "source": [
    "## Markov Matrices"
   ]
  },
  {
   "cell_type": "markdown",
   "metadata": {},
   "source": [
    "8) You should do this with `numpy`. Start with the vector $\\mathbf u_0 = (1,0)$. Multiply again and again by the same \"Markov matrix\" \n",
    "$A =\\begin{bmatrix}.8 & .2 \\\\ .3 & .7\\end{bmatrix}$. Find $\\mathbf u_i = A\\mathbf u_{i-1}$ for $i\\in[1,3]$"
   ]
  },
  {
   "cell_type": "code",
   "execution_count": 3,
   "metadata": {
    "collapsed": false
   },
   "outputs": [
    {
     "name": "stdout",
     "output_type": "stream",
     "text": [
      "i =  0 u = \n",
      "[[1]\n",
      " [0]]\n",
      "\n",
      "i =  1 u = \n",
      "[[ 0.8]\n",
      " [ 0.3]]\n",
      "\n",
      "i =  2 u = \n",
      "[[ 0.7 ]\n",
      " [ 0.45]]\n",
      "\n",
      "i =  3 u = \n",
      "[[ 0.65 ]\n",
      " [ 0.525]]\n",
      "\n",
      "i =  4 u = \n",
      "[[ 0.625 ]\n",
      " [ 0.5625]]\n",
      "\n",
      "i =  5 u = \n",
      "[[ 0.6125 ]\n",
      " [ 0.58125]]\n",
      "\n",
      "i =  6 u = \n",
      "[[ 0.60625 ]\n",
      " [ 0.590625]]\n",
      "\n",
      "i =  7 u = \n",
      "[[ 0.603125 ]\n",
      " [ 0.5953125]]\n",
      "\n"
     ]
    }
   ],
   "source": [
    "A = np.array([[.8, .2],[.3, .7]])\n",
    "u = np.array([[1],[0]])\n",
    "for i in range(8):\n",
    "    print(\"i = \", i, \"u = \")\n",
    "    print(u)\n",
    "    print()\n",
    "    u = np.dot(A,u)"
   ]
  },
  {
   "cell_type": "markdown",
   "metadata": {},
   "source": [
    "9) Write a `for` loop to do this through $\\mathbf u_7$. What do you notice about $\\mathbf u_7$?"
   ]
  },
  {
   "cell_type": "markdown",
   "metadata": {},
   "source": [
    "**Answer:**\n",
    "\n",
    "$u_6$ and $u_7$ are close numerically. It seems like $u$ is converging to [.6, .6]."
   ]
  },
  {
   "cell_type": "markdown",
   "metadata": {},
   "source": [
    "10) There is a steady-state $\\mathbf u_s$ where $A\\mathbf u_s=\\mathbf u_s$. Find it."
   ]
  },
  {
   "cell_type": "code",
   "execution_count": 8,
   "metadata": {
    "collapsed": false
   },
   "outputs": [
    {
     "name": "stdout",
     "output_type": "stream",
     "text": [
      "[[1]\n",
      " [0]]\n",
      "[[ 0.6]\n",
      " [ 0.6]]\n"
     ]
    }
   ],
   "source": [
    "A = np.array([[.8, .2],[.3, .7]])\n",
    "u = np.array([[1],[0]])\n",
    "print(u)\n",
    "for i in range(999999):\n",
    "    u = np.dot(A,u)\n",
    "print(u)"
   ]
  },
  {
   "cell_type": "code",
   "execution_count": null,
   "metadata": {
    "collapsed": true
   },
   "outputs": [],
   "source": []
  }
 ],
 "metadata": {
  "kernelspec": {
   "display_name": "Python 3",
   "language": "python",
   "name": "python3"
  },
  "language_info": {
   "codemirror_mode": {
    "name": "ipython",
    "version": 3
   },
   "file_extension": ".py",
   "mimetype": "text/x-python",
   "name": "python",
   "nbconvert_exporter": "python",
   "pygments_lexer": "ipython3",
   "version": "3.5.2"
  }
 },
 "nbformat": 4,
 "nbformat_minor": 0
}
