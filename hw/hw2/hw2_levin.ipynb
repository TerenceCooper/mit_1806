{
 "cells": [
  {
   "cell_type": "code",
   "execution_count": null,
   "metadata": {
    "collapsed": true
   },
   "outputs": [],
   "source": [
    "import numpy as np"
   ]
  },
  {
   "cell_type": "markdown",
   "metadata": {},
   "source": [
    "1) Perform one of the four types of matrix multiplication in `numpy`. Write your methods for $\\mathbb R^2$.\n",
    "\n",
    "**Answer:**  \n",
    "use column based multiplication as below"
   ]
  },
  {
   "cell_type": "code",
   "execution_count": 7,
   "metadata": {
    "collapsed": false
   },
   "outputs": [
    {
     "name": "stdout",
     "output_type": "stream",
     "text": [
      "R*R = [[ 30  36  42]\n",
      " [ 66  81  96]\n",
      " [102 126 150]]\n",
      "R*R = [[ 30  36  42]\n",
      " [ 66  81  96]\n",
      " [102 126 150]]\n"
     ]
    }
   ],
   "source": [
    "import numpy as np\n",
    "def question1_rsquare(R):\n",
    "    column_num = R.shape[1]\n",
    "    res = None\n",
    "    for col in range(column_num):\n",
    "        if res is None:\n",
    "            res = R * R[:, col]\n",
    "            continue\n",
    "        res = np.concatenate((res, R* R[:, col]), axis = 1)\n",
    "    return res\n",
    "R = np.matrix([[1,2,3], [4,5,6] , [7,8,9]])\n",
    "print \"R*R = {}\".format(R*R)\n",
    "#column based calculation, the result is expected to be same as above\n",
    "print \"R*R = {}\".format(question1_rsquare(R))"
   ]
  },
  {
   "cell_type": "markdown",
   "metadata": {},
   "source": [
    "2) Write this system of linear equations as a matrix equation. Solve by careful inspection of the columns without doing any calculations.\n",
    "\n",
    "\\begin{align}\n",
    "x+3y+2z&=-3\\\\\n",
    "2x+2y+2z&=-2\\\\\n",
    "2x+5y+6z&=-5\n",
    "\\end{align}\n",
    "\n",
    "**Answer:**  \n",
    "use column based multiplication, x = 0, y = -1, z=0"
   ]
  },
  {
   "cell_type": "markdown",
   "metadata": {},
   "source": [
    "3) Find a point with $z=2$ on the intersection line of the planes $x+y+3z=6$ and $x-y+z=4$. Find the point with $z=0$. Find a third point halfway between.\n",
    "\n",
    "**Answer:**  \n",
    "z= 2, x= 1.0, y = -1.0  \n",
    "z= 0, x= 5.0, y = 1.0  \n",
    "z= 1, x= 3.0, y = -0.0\n"
   ]
  },
  {
   "cell_type": "markdown",
   "metadata": {},
   "source": [
    "4) What is the 2 by 2 exchange matrix? \n",
    "\n",
    "$$P\\begin{bmatrix}x\\\\ y\\end{bmatrix}=\\begin{bmatrix}y\\\\ x\\end{bmatrix}$$\n",
    "\n",
    "**Answer:**  \n",
    "P = [[0 1]\n",
    " [1 0]]"
   ]
  },
  {
   "cell_type": "markdown",
   "metadata": {},
   "source": [
    "5) What is the 2 by 2 matrix $R$ that rotates every vector by $90^{\\circ}$? \n",
    "\n",
    "$$P\\begin{bmatrix}x\\\\ y\\end{bmatrix}=\\begin{bmatrix}y\\\\ -x\\end{bmatrix}$$\n",
    "\n",
    "**Answer:**  \n",
    "\n",
    "P = [[ 0  1]\n",
    " [-1  0]]\n"
   ]
  },
  {
   "cell_type": "markdown",
   "metadata": {},
   "source": [
    "6) Use `numpy` to solve $A\\mathbf{x}=\\mathbf{b}$\n",
    "\n",
    "$$A=\\begin{bmatrix}1 & 2 \\\\ 3 & 4\\end{bmatrix} \\ \\ \\ \\ \\mathbf{x}=\\begin{bmatrix}5\\\\-2\\end{bmatrix} \\ \\ \\ \\ \\mathbf{b}=\\begin{bmatrix}1\\\\7\\end{bmatrix}$$"
   ]
  },
  {
   "cell_type": "code",
   "execution_count": 3,
   "metadata": {
    "collapsed": false
   },
   "outputs": [
    {
     "name": "stdout",
     "output_type": "stream",
     "text": [
      "x=[[ 5.]\n",
      " [-2.]]\n"
     ]
    }
   ],
   "source": [
    "import numpy as np\n",
    "from numpy import linalg as LA\n",
    "\n",
    "A = np.matrix([[1, 2], [3, 4]])\n",
    "b = np.matrix([1, 7]).transpose()\n",
    "x = LA.solve(A, b)\n",
    "print \"x={}\".format(x)"
   ]
  },
  {
   "cell_type": "markdown",
   "metadata": {},
   "source": [
    "7) Solve this system by elimination and back substitution\n",
    "\n",
    "\\begin{align}\n",
    "2x+3y&=1\\\\\n",
    "10x+9y&=11\n",
    "\\end{align}\n",
    "\n",
    "Use `numpy` to verify your answer.\n",
    "\n",
    "**Answer:**\n",
    "x = 2, y=-1"
   ]
  },
  {
   "cell_type": "code",
   "execution_count": 8,
   "metadata": {
    "collapsed": false
   },
   "outputs": [
    {
     "name": "stdout",
     "output_type": "stream",
     "text": [
      "b: [[ 1]\n",
      " [11]]\n"
     ]
    }
   ],
   "source": [
    "#verification codes\n",
    "A = np.matrix([[2, 3], [10, 9]])\n",
    "x = np.matrix([2, -1]).transpose()\n",
    "b = A * x\n",
    "#b is expected to be [1,11]\n",
    "print \"b: {}\".format(b)"
   ]
  },
  {
   "cell_type": "markdown",
   "metadata": {},
   "source": [
    "8) Choose a right side which gives no solution. Choose another right side that gives infinitely many solutions.\n",
    "\n",
    "\\begin{align}\n",
    "3x+2y&=10\\\\\n",
    "6x+4y&=\n",
    "\\end{align}\n",
    "\n",
    "How does `numpy` tell you there is no answer?\n",
    "\n",
    "**Answer:**  \n",
    "set anotehr right side as 20, numpy tells us there is no answer by throwing exception \"numpy.linalg.linalg.LinAlgError: Singular matrix\""
   ]
  },
  {
   "cell_type": "code",
   "execution_count": 9,
   "metadata": {
    "collapsed": false
   },
   "outputs": [
    {
     "ename": "LinAlgError",
     "evalue": "Singular matrix",
     "output_type": "error",
     "traceback": [
      "\u001b[1;31m---------------------------------------------------------------------------\u001b[0m",
      "\u001b[1;31mLinAlgError\u001b[0m                               Traceback (most recent call last)",
      "\u001b[1;32m<ipython-input-9-2a2b3e00bf58>\u001b[0m in \u001b[0;36m<module>\u001b[1;34m()\u001b[0m\n\u001b[0;32m      2\u001b[0m \u001b[0mA\u001b[0m \u001b[1;33m=\u001b[0m \u001b[0mnp\u001b[0m\u001b[1;33m.\u001b[0m\u001b[0mmatrix\u001b[0m\u001b[1;33m(\u001b[0m\u001b[1;33m[\u001b[0m\u001b[1;33m[\u001b[0m\u001b[1;36m3\u001b[0m\u001b[1;33m,\u001b[0m \u001b[1;36m2\u001b[0m\u001b[1;33m]\u001b[0m\u001b[1;33m,\u001b[0m \u001b[1;33m[\u001b[0m\u001b[1;36m6\u001b[0m\u001b[1;33m,\u001b[0m \u001b[1;36m4\u001b[0m\u001b[1;33m]\u001b[0m\u001b[1;33m]\u001b[0m\u001b[1;33m)\u001b[0m\u001b[1;33m\u001b[0m\u001b[0m\n\u001b[0;32m      3\u001b[0m \u001b[0mb\u001b[0m \u001b[1;33m=\u001b[0m \u001b[0mnp\u001b[0m\u001b[1;33m.\u001b[0m\u001b[0mmatrix\u001b[0m\u001b[1;33m(\u001b[0m\u001b[1;33m[\u001b[0m\u001b[1;36m10\u001b[0m\u001b[1;33m,\u001b[0m \u001b[1;36m10\u001b[0m\u001b[1;33m]\u001b[0m\u001b[1;33m)\u001b[0m\u001b[1;33m.\u001b[0m\u001b[0mtranspose\u001b[0m\u001b[1;33m(\u001b[0m\u001b[1;33m)\u001b[0m\u001b[1;33m\u001b[0m\u001b[0m\n\u001b[1;32m----> 4\u001b[1;33m \u001b[0mx\u001b[0m \u001b[1;33m=\u001b[0m \u001b[0mLA\u001b[0m\u001b[1;33m.\u001b[0m\u001b[0msolve\u001b[0m\u001b[1;33m(\u001b[0m\u001b[0mA\u001b[0m\u001b[1;33m,\u001b[0m \u001b[0mb\u001b[0m\u001b[1;33m)\u001b[0m\u001b[1;33m\u001b[0m\u001b[0m\n\u001b[0m\u001b[0;32m      5\u001b[0m \u001b[1;32mprint\u001b[0m \u001b[1;34m\"x={}\"\u001b[0m\u001b[1;33m.\u001b[0m\u001b[0mformat\u001b[0m\u001b[1;33m(\u001b[0m\u001b[0mx\u001b[0m\u001b[1;33m)\u001b[0m\u001b[1;33m\u001b[0m\u001b[0m\n",
      "\u001b[1;32mC:\\Users\\jianz\\AppData\\Local\\Continuum\\Anaconda2\\lib\\site-packages\\numpy\\linalg\\linalg.pyc\u001b[0m in \u001b[0;36msolve\u001b[1;34m(a, b)\u001b[0m\n\u001b[0;32m    382\u001b[0m     \u001b[0msignature\u001b[0m \u001b[1;33m=\u001b[0m \u001b[1;34m'DD->D'\u001b[0m \u001b[1;32mif\u001b[0m \u001b[0misComplexType\u001b[0m\u001b[1;33m(\u001b[0m\u001b[0mt\u001b[0m\u001b[1;33m)\u001b[0m \u001b[1;32melse\u001b[0m \u001b[1;34m'dd->d'\u001b[0m\u001b[1;33m\u001b[0m\u001b[0m\n\u001b[0;32m    383\u001b[0m     \u001b[0mextobj\u001b[0m \u001b[1;33m=\u001b[0m \u001b[0mget_linalg_error_extobj\u001b[0m\u001b[1;33m(\u001b[0m\u001b[0m_raise_linalgerror_singular\u001b[0m\u001b[1;33m)\u001b[0m\u001b[1;33m\u001b[0m\u001b[0m\n\u001b[1;32m--> 384\u001b[1;33m     \u001b[0mr\u001b[0m \u001b[1;33m=\u001b[0m \u001b[0mgufunc\u001b[0m\u001b[1;33m(\u001b[0m\u001b[0ma\u001b[0m\u001b[1;33m,\u001b[0m \u001b[0mb\u001b[0m\u001b[1;33m,\u001b[0m \u001b[0msignature\u001b[0m\u001b[1;33m=\u001b[0m\u001b[0msignature\u001b[0m\u001b[1;33m,\u001b[0m \u001b[0mextobj\u001b[0m\u001b[1;33m=\u001b[0m\u001b[0mextobj\u001b[0m\u001b[1;33m)\u001b[0m\u001b[1;33m\u001b[0m\u001b[0m\n\u001b[0m\u001b[0;32m    385\u001b[0m \u001b[1;33m\u001b[0m\u001b[0m\n\u001b[0;32m    386\u001b[0m     \u001b[1;32mreturn\u001b[0m \u001b[0mwrap\u001b[0m\u001b[1;33m(\u001b[0m\u001b[0mr\u001b[0m\u001b[1;33m.\u001b[0m\u001b[0mastype\u001b[0m\u001b[1;33m(\u001b[0m\u001b[0mresult_t\u001b[0m\u001b[1;33m,\u001b[0m \u001b[0mcopy\u001b[0m\u001b[1;33m=\u001b[0m\u001b[0mFalse\u001b[0m\u001b[1;33m)\u001b[0m\u001b[1;33m)\u001b[0m\u001b[1;33m\u001b[0m\u001b[0m\n",
      "\u001b[1;32mC:\\Users\\jianz\\AppData\\Local\\Continuum\\Anaconda2\\lib\\site-packages\\numpy\\linalg\\linalg.pyc\u001b[0m in \u001b[0;36m_raise_linalgerror_singular\u001b[1;34m(err, flag)\u001b[0m\n\u001b[0;32m     88\u001b[0m \u001b[1;33m\u001b[0m\u001b[0m\n\u001b[0;32m     89\u001b[0m \u001b[1;32mdef\u001b[0m \u001b[0m_raise_linalgerror_singular\u001b[0m\u001b[1;33m(\u001b[0m\u001b[0merr\u001b[0m\u001b[1;33m,\u001b[0m \u001b[0mflag\u001b[0m\u001b[1;33m)\u001b[0m\u001b[1;33m:\u001b[0m\u001b[1;33m\u001b[0m\u001b[0m\n\u001b[1;32m---> 90\u001b[1;33m     \u001b[1;32mraise\u001b[0m \u001b[0mLinAlgError\u001b[0m\u001b[1;33m(\u001b[0m\u001b[1;34m\"Singular matrix\"\u001b[0m\u001b[1;33m)\u001b[0m\u001b[1;33m\u001b[0m\u001b[0m\n\u001b[0m\u001b[0;32m     91\u001b[0m \u001b[1;33m\u001b[0m\u001b[0m\n\u001b[0;32m     92\u001b[0m \u001b[1;32mdef\u001b[0m \u001b[0m_raise_linalgerror_nonposdef\u001b[0m\u001b[1;33m(\u001b[0m\u001b[0merr\u001b[0m\u001b[1;33m,\u001b[0m \u001b[0mflag\u001b[0m\u001b[1;33m)\u001b[0m\u001b[1;33m:\u001b[0m\u001b[1;33m\u001b[0m\u001b[0m\n",
      "\u001b[1;31mLinAlgError\u001b[0m: Singular matrix"
     ]
    }
   ],
   "source": [
    "#An exception is expected to throw while executing below codes\n",
    "A = np.matrix([[3, 2], [6, 4]])\n",
    "b = np.matrix([10, 10]).transpose()\n",
    "x = LA.solve(A, b)\n",
    "print \"x={}\".format(x)"
   ]
  },
  {
   "cell_type": "markdown",
   "metadata": {},
   "source": [
    "9) Which number $d$ forces a row exchange, and what is the triangular system (not singular) for that $d$? Which $d$ makes this system singular (no third pivot)?\n",
    "\n",
    "\\begin{matrix}\n",
    "2x+5y+z&=0\\\\\n",
    "4x+dy+z&=2\\\\\n",
    "y-z&=3\n",
    "\\end{matrix}\n",
    "\n",
    "**Answer:**  \n",
    "\n",
    "d = 0 will force a row change  \n",
    "d !=11 will make the matrix non singular  \n",
    "d = 11 will make the system singular"
   ]
  },
  {
   "cell_type": "markdown",
   "metadata": {},
   "source": [
    "10) For which three values of $a$ is $A$ singular?\n",
    "\n",
    "$$A=\\begin{bmatrix}a & 2 & 3\\\\ a & a & 4 \\\\ a & a & a\\end{bmatrix}$$\n",
    "\n",
    "**Answer:**  \n",
    "\n",
    "a = 0,2,4 will make matrix A sigular"
   ]
  },
  {
   "cell_type": "markdown",
   "metadata": {},
   "source": [
    "11) Write down the 3 by  3 matrices that produce these elimination steps:\n",
    "\n",
    "- $E_{21}$ subtracts 5 times row 1 from row 2\n",
    "- $E_{32}$ subtracts -7 times row 2 from row 3.\n",
    "- $P$ exchanges rows 1 and 2, then rows 2 and 3.\n",
    "\n",
    "**Answer:**  \n",
    "E21 = np.matrix([[1,0,0], [-5,1,0] , [0,0,1]])  \n",
    "E32 = np.matrix([[1,0,0], [0,1,0] , [0, 7, 1]])  \n",
    "P = np.matrix([[0,1,0], [0,0,1] , [1,0,0]])"
   ]
  },
  {
   "cell_type": "markdown",
   "metadata": {},
   "source": [
    "12) Multiply this matrix\n",
    "\n",
    "$$\n",
    "\\begin{bmatrix}\n",
    "0 & 0 & 1 \\\\ \n",
    "0 & 1 & 0 \\\\ \n",
    "1 & 0 & 0\n",
    "\\end{bmatrix}\n",
    "\\begin{bmatrix}\n",
    "1 & 2 & 3 \\\\ \n",
    "4 & 5 & 6 \\\\ \n",
    "7 & 8 & 9\n",
    "\\end{bmatrix}\n",
    "\\begin{bmatrix}\n",
    "0 & 0 & 1 \\\\\n",
    "0 & 1 & 0 \\\\\n",
    "1 & 0 & 0 \n",
    "\\end{bmatrix}\n",
    "=\n",
    "$$\n",
    "\n",
    "and this matrix\n",
    "\n",
    "$$\n",
    "\\begin{bmatrix}\n",
    " 1 & 0 & 0 \\\\\n",
    "-1 & 1 & 0 \\\\\n",
    "-1 & 0 & 1 \n",
    "\\end{bmatrix}\n",
    "\\begin{bmatrix}\n",
    "1 & 2 & 3 \\\\\n",
    "1 & 3 & 1 \\\\\n",
    "1 & 4 & 0 \n",
    "\\end{bmatrix}\n",
    "=\n",
    "$$\n",
    "\n",
    "**Answer:**  \n",
    "1)  [[9 8 7]\n",
    " [6 5 4]\n",
    " [3 2 1]]  \n",
    " \n",
    "2) [[ 1  2  3]\n",
    " [ 0  1 -2]\n",
    " [ 0  2 -3]]\n",
    " \n"
   ]
  },
  {
   "cell_type": "markdown",
   "metadata": {},
   "source": [
    "13) Write this problem in matrix form, $A\\mathbf{x}=b$, and solve it\n",
    "\n",
    "$(x,y)=(2,5)$ and $(3,7)$ lie on the line $y=mx+c$. Find $m$ and $c$.\n",
    "\n",
    "**Answer:**  \n",
    "m=2.0, c=1.0"
   ]
  },
  {
   "cell_type": "markdown",
   "metadata": {},
   "source": [
    "14) Find the triangular matrix $E$ that reduces \"Pascal's matrix\" to a smaller Pascal:\n",
    "\n",
    "$$E\n",
    "\\begin{bmatrix}\n",
    " 1 & 0 & 0 & 0 \\\\\n",
    " 1 & 1 & 0 & 0 \\\\\n",
    " 1 & 2 & 1 & 0 \\\\\n",
    " 1 & 3 & 3 & 1 \\\\  \n",
    "\\end{bmatrix}\n",
    "=\n",
    "\\begin{bmatrix}\n",
    " 1 & 0 & 0 & 0 \\\\\n",
    " 0 & 1 & 0 & 0 \\\\\n",
    " 0 & 1 & 1 & 0 \\\\\n",
    " 0 & 1 & 2 & 1 \\\\  \n",
    "\\end{bmatrix}\n",
    "$$\n",
    "\n",
    "Which matrix $M$ (multiplying several $E$'s reduces Pascal all the way to $I$?\n",
    "\n",
    "**Answer:**  \n",
    "E = np.matrix([[1,0,0,0], [-1,1,0,0], [0,-1,1,0], [0,0,-1,1]])  \n",
    "M = [[ 1.  0.  0.  0.]\n",
    " [-1.  1.  0.  0.]\n",
    " [ 1. -2.  1. -0.]\n",
    " [-1.  3. -3.  1.]]"
   ]
  },
  {
   "cell_type": "markdown",
   "metadata": {},
   "source": [
    "15) Write $M = \\begin{bmatrix}3 & 4 \\\\ 5 & 7\\end{bmatrix}$ as a product of many factors of $A$ and $B$. \n",
    "\n",
    "$$A=\\begin{bmatrix}1 & 0 \\\\ 1 & 1\\end{bmatrix} \\ \\ \\ \\ \\ \\ B=\\begin{bmatrix}1 & 1 \\\\ 0 & 1\\end{bmatrix}$$\n",
    "\n",
    "\n",
    "**Answer:** \n",
    "Not sure how to proceed with question for now\n",
    "\n"
   ]
  },
  {
   "cell_type": "markdown",
   "metadata": {},
   "source": [
    "16) Have a look at the following use of `scipy`'s `lu` solver."
   ]
  },
  {
   "cell_type": "code",
   "execution_count": 6,
   "metadata": {
    "collapsed": false
   },
   "outputs": [
    {
     "name": "stdout",
     "output_type": "stream",
     "text": [
      "[[ 0.  0.  1.]\n",
      " [ 1.  0.  0.]\n",
      " [ 0.  1.  0.]] [[ 1.          0.          0.        ]\n",
      " [ 0.13806458  1.          0.        ]\n",
      " [ 0.97743663 -0.38193743  1.        ]] [[ 0.6626936   0.88743582  0.13744239]\n",
      " [ 0.          0.72610561  0.80593419]\n",
      " [ 0.          0.          0.51321928]]\n"
     ]
    }
   ],
   "source": [
    "import scipy.linalg as sla\n",
    "import numpy.random as rand\n",
    "\n",
    "def random_3_by_3():\n",
    "    return np.reshape(rand.rand(9),(3,3))\n",
    "\n",
    "A = random_3_by_3()\n",
    "\n",
    "P, L, U = sla.lu(A)\n",
    "print(P),\n",
    "print(L),\n",
    "print(U)"
   ]
  },
  {
   "cell_type": "markdown",
   "metadata": {},
   "source": [
    "Find experimentally the first, second, and third pivots (i.e. for a new $A$ on each pass. What do you notice about $U_{11}$, $U_{22}$, and $U_{33}$? \n",
    "\n",
    "**NOTE**: *What we are looking for here is the general trend of the three pivots over possibly hundreds of iterations.*\n",
    "\n",
    "**Answer:** \n",
    "Not sure how to proceed with question for now"
   ]
  },
  {
   "cell_type": "code",
   "execution_count": null,
   "metadata": {
    "collapsed": true
   },
   "outputs": [],
   "source": []
  }
 ],
 "metadata": {
  "kernelspec": {
   "display_name": "Python 2",
   "language": "python",
   "name": "python2"
  },
  "language_info": {
   "codemirror_mode": {
    "name": "ipython",
    "version": 2
   },
   "file_extension": ".py",
   "mimetype": "text/x-python",
   "name": "python",
   "nbconvert_exporter": "python",
   "pygments_lexer": "ipython2",
   "version": "2.7.11"
  }
 },
 "nbformat": 4,
 "nbformat_minor": 0
}
