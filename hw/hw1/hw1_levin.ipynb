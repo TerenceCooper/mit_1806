{
 "cells": [
  {
   "cell_type": "code",
   "execution_count": 2,
   "metadata": {
    "collapsed": true
   },
   "outputs": [],
   "source": [
    "import numpy as np"
   ]
  },
  {
   "cell_type": "markdown",
   "metadata": {},
   "source": [
    "$$\\newcommand{mmx}[2]{\\left[\\begin{matrix}#1 \\\\ #2\\end{matrix}\\right]}$$ \n",
    "$$\\newcommand{mmxx}[4]{\\left[\\begin{matrix}#1 & #3 \\\\ #2 & #4\\end{matrix}\\right]}$$ \n",
    "$$\\newcommand{mmmx}[3]{\\left[\\begin{matrix} #1 \\\\ #2 \\\\ #3\\end{matrix}\\right]}$$ \n",
    "\n",
    "$$\\newcommand{\\u}{\\mathbf{u}}$$ \n",
    "$$\\newcommand{\\v}{\\mathbf{v}}$$ \n",
    "$$\\newcommand{\\w}{\\mathbf{w}}$$ \n",
    "$$\\newcommand{\\R}{\\mathbb{R}}$$"
   ]
  },
  {
   "cell_type": "markdown",
   "metadata": {},
   "source": [
    "1) What combination $c\\mmx{1}{2}+d\\mmx{3}{1}$ produces $\\mmx{14}{8}$? Express this question as two equations for the coefficients $c$ and $d$ in the linear combination.\n",
    "\n",
    "c + 3d = 14  \n",
    "2c + d = 8  \n",
    "so c = 2, d = 4\n"
   ]
  },
  {
   "cell_type": "markdown",
   "metadata": {},
   "source": [
    "2) Write the solution as a sum using `numpy`."
   ]
  },
  {
   "cell_type": "code",
   "execution_count": 3,
   "metadata": {
    "collapsed": false
   },
   "outputs": [
    {
     "name": "stdout",
     "output_type": "stream",
     "text": [
      "[14  8]\n"
     ]
    }
   ],
   "source": [
    "c = 2\n",
    "d = 4\n",
    "res = c * np.array([1,2]) + d * np.array([3,1])\n",
    "print res"
   ]
  },
  {
   "cell_type": "markdown",
   "metadata": {},
   "source": [
    "3) Can three vectors in the $xy$ plane (i.e. $\\R^2$) have $\\u\\cdot\\v < 0$, $\\v\\cdot\\w < 0$, and $\\u\\cdot\\w < 0$? I don't know how many vectors in $xyz$ (i.e. $\\R^3$) space can have all negative dot products. (Four of those vectors in the plane would certainly be impossible ...).\n",
    "\n",
    "No. it should not be possible. Two of them should be greater than zero"
   ]
  },
  {
   "cell_type": "markdown",
   "metadata": {},
   "source": [
    "4) Find four perpendicular unit vectors with all components equal to $\\frac{1}{2}$ or $-\\frac{1}{2}$.\n",
    "\n",
    "[1/2, -1/2, -1/2, 1/2]   \n",
    "[1/2, 1/2, -1/2, -1/2]  \n",
    "[-1/2, 1/2, 1/2, -1/2]  \n",
    "[-1/2, -1/2, 1/2, 1/2]  "
   ]
  },
  {
   "cell_type": "markdown",
   "metadata": {},
   "source": [
    "5) Use `numpy` to show that these vectors are unit vectors. "
   ]
  },
  {
   "cell_type": "code",
   "execution_count": 4,
   "metadata": {
    "collapsed": false
   },
   "outputs": [
    {
     "name": "stdout",
     "output_type": "stream",
     "text": [
      "r1 lenght 1.0\n"
     ]
    }
   ],
   "source": [
    "from numpy import linalg as LA\n",
    "r1 = [1.0/2, -1.0/2, -1.0/2, 1.0/2]\n",
    "print \"r1 lenght {}\".format( LA.norm(r1, ord=2))"
   ]
  },
  {
   "cell_type": "markdown",
   "metadata": {
    "collapsed": true
   },
   "source": [
    "6) Find a combination $\\alpha\\u+\\beta\\v+\\gamma\\w$ that gives the zero vector. \n",
    "\n",
    "\\begin{align*}\n",
    "\\mathbf{u}&=\\mmmx{1}{2}{3} & \n",
    "\\mathbf{v}&=\\mmmx{4}{5}{6} & \n",
    "\\mathbf{w}&=\\mmmx{7}{8}{9}\n",
    "\\end{align*}\n",
    "\n",
    "Are $\\u$, $\\v$, $\\w$ independent or dependent? Why? \n",
    "\n",
    "No, they are not. w = -1*u +  2*v\n",
    "\n",
    "If the three vectors form a matrix $A$ with those columns, is it invertible?\n",
    "\n",
    "No, it's not invertible\n"
   ]
  },
  {
   "cell_type": "markdown",
   "metadata": {},
   "source": [
    "7) Write $A$ as a matrix in `numpy`. Display the matrix. \n",
    "\n",
    "**NOTE:** Conversation about row order vs. column order. \n"
   ]
  },
  {
   "cell_type": "code",
   "execution_count": 5,
   "metadata": {
    "collapsed": false
   },
   "outputs": [
    {
     "name": "stdout",
     "output_type": "stream",
     "text": [
      "column order [[1 4 7]\n",
      " [2 5 8]\n",
      " [3 6 9]]\n",
      "row order [[1 2 3]\n",
      " [4 5 6]\n",
      " [7 8 9]]\n"
     ]
    }
   ],
   "source": [
    "u = np.array([1,2,3]).reshape((3,1))\n",
    "v = np.array([4,5,6]).reshape((3,1))\n",
    "w = np.array([7,8,9]).reshape((3,1))\n",
    "res = np.concatenate((u,v,w), axis = 1)\n",
    "print \"column order {}\".format(res) \n",
    "        \n",
    "res = np.concatenate((u.transpose(),v.transpose(),w.transpose()), axis = 0)\n",
    "print \"row order {}\".format(res)     "
   ]
  },
  {
   "cell_type": "markdown",
   "metadata": {},
   "source": [
    "## Markov Matrices"
   ]
  },
  {
   "cell_type": "markdown",
   "metadata": {},
   "source": [
    "8) You should do this with `numpy`. Start with the vector $\\u_0 = (1,0)$. Multiply again and again by the same \"Markov matrix\" \n",
    "$A =\\mmxx{.8}{.2}{.3}{.7}$. Find $\\u_i = A\\u_{i-1}$ for $i\\in[1,3]$"
   ]
  },
  {
   "cell_type": "markdown",
   "metadata": {},
   "source": [
    "9) Write a `for` loop to do this through $\\u_7$. What do you notice about $\\u_7$?\n",
    "\n",
    "u7 starts to stabilize in the sense u8, u9, ... are more or less the same."
   ]
  },
  {
   "cell_type": "markdown",
   "metadata": {},
   "source": [
    "10) There is a steady-state $\\u_s$ where $A\\u_s=\\u_s$. Find it.  \n",
    "u= [0,0]"
   ]
  },
  {
   "cell_type": "code",
   "execution_count": 7,
   "metadata": {
    "collapsed": false
   },
   "outputs": [
    {
     "name": "stdout",
     "output_type": "stream",
     "text": [
      "############Question 9###########\n",
      "u1 [[ 0.8]\n",
      " [ 0.2]]\n",
      "u2 [[ 0.7]\n",
      " [ 0.3]]\n",
      "u3 [[ 0.65]\n",
      " [ 0.35]]\n",
      "u4 [[ 0.625]\n",
      " [ 0.375]]\n",
      "u5 [[ 0.6125]\n",
      " [ 0.3875]]\n",
      "u6 [[ 0.60625]\n",
      " [ 0.39375]]\n",
      "u7 [[ 0.603125]\n",
      " [ 0.396875]]\n",
      "u8 [[ 0.6015625]\n",
      " [ 0.3984375]]\n",
      "u9 [[ 0.60078125]\n",
      " [ 0.39921875]]\n",
      "############Question 10###########\n",
      "u1 [[ 0.8]\n",
      " [ 0.2]]\n",
      "u2 [[ 0.7]\n",
      " [ 0.3]]\n",
      "u3 [[ 0.65]\n",
      " [ 0.35]]\n",
      "u4 [[ 0.625]\n",
      " [ 0.375]]\n",
      "u5 [[ 0.6125]\n",
      " [ 0.3875]]\n",
      "u6 [[ 0.60625]\n",
      " [ 0.39375]]\n",
      "u7 [[ 0.603125]\n",
      " [ 0.396875]]\n",
      "u8 [[ 0.6015625]\n",
      " [ 0.3984375]]\n",
      "u9 [[ 0.60078125]\n",
      " [ 0.39921875]]\n",
      "u10 [[ 0.60039063]\n",
      " [ 0.39960938]]\n",
      "u11 [[ 0.60019531]\n",
      " [ 0.39980469]]\n",
      "u12 [[ 0.60009766]\n",
      " [ 0.39990234]]\n",
      "u13 [[ 0.60004883]\n",
      " [ 0.39995117]]\n",
      "u14 [[ 0.60002441]\n",
      " [ 0.39997559]]\n",
      "u15 [[ 0.60001221]\n",
      " [ 0.39998779]]\n",
      "u16 [[ 0.6000061]\n",
      " [ 0.3999939]]\n",
      "u17 [[ 0.60000305]\n",
      " [ 0.39999695]]\n",
      "u18 [[ 0.60000153]\n",
      " [ 0.39999847]]\n",
      "u19 [[ 0.60000076]\n",
      " [ 0.39999924]]\n",
      "u20 [[ 0.60000038]\n",
      " [ 0.39999962]]\n",
      "u21 [[ 0.60000019]\n",
      " [ 0.39999981]]\n",
      "u22 [[ 0.6000001]\n",
      " [ 0.3999999]]\n",
      "u23 [[ 0.60000005]\n",
      " [ 0.39999995]]\n",
      "u24 [[ 0.60000002]\n",
      " [ 0.39999998]]\n",
      "u25 [[ 0.60000001]\n",
      " [ 0.39999999]]\n",
      "u26 [[ 0.60000001]\n",
      " [ 0.39999999]]\n",
      "u27 [[ 0.6]\n",
      " [ 0.4]]\n",
      "u28 [[ 0.6]\n",
      " [ 0.4]]\n",
      "u29 [[ 0.6]\n",
      " [ 0.4]]\n",
      "u30 [[ 0.6]\n",
      " [ 0.4]]\n",
      "u31 [[ 0.6]\n",
      " [ 0.4]]\n",
      "u32 [[ 0.6]\n",
      " [ 0.4]]\n",
      "u33 [[ 0.6]\n",
      " [ 0.4]]\n",
      "u34 [[ 0.6]\n",
      " [ 0.4]]\n",
      "u35 [[ 0.6]\n",
      " [ 0.4]]\n",
      "u36 [[ 0.6]\n",
      " [ 0.4]]\n",
      "u37 [[ 0.6]\n",
      " [ 0.4]]\n",
      "u38 [[ 0.6]\n",
      " [ 0.4]]\n",
      "u39 [[ 0.6]\n",
      " [ 0.4]]\n",
      "u40 [[ 0.6]\n",
      " [ 0.4]]\n",
      "u41 [[ 0.6]\n",
      " [ 0.4]]\n",
      "u42 [[ 0.6]\n",
      " [ 0.4]]\n",
      "u43 [[ 0.6]\n",
      " [ 0.4]]\n",
      "u44 [[ 0.6]\n",
      " [ 0.4]]\n",
      "u45 [[ 0.6]\n",
      " [ 0.4]]\n",
      "u46 [[ 0.6]\n",
      " [ 0.4]]\n",
      "u47 [[ 0.6]\n",
      " [ 0.4]]\n",
      "u48 [[ 0.6]\n",
      " [ 0.4]]\n",
      "u49 [[ 0.6]\n",
      " [ 0.4]]\n",
      "u50 [[ 0.6]\n",
      " [ 0.4]]\n",
      "u51 [[ 0.6]\n",
      " [ 0.4]]\n",
      "u52 [[ 0.6]\n",
      " [ 0.4]]\n",
      "u53 [[ 0.6]\n",
      " [ 0.4]]\n",
      "u54 [[ 0.6]\n",
      " [ 0.4]]\n",
      "u55 [[ 0.6]\n",
      " [ 0.4]]\n",
      "u56 [[ 0.6]\n",
      " [ 0.4]]\n",
      "u57 [[ 0.6]\n",
      " [ 0.4]]\n",
      "u58 [[ 0.6]\n",
      " [ 0.4]]\n",
      "u59 [[ 0.6]\n",
      " [ 0.4]]\n",
      "u60 [[ 0.6]\n",
      " [ 0.4]]\n",
      "u61 [[ 0.6]\n",
      " [ 0.4]]\n",
      "u62 [[ 0.6]\n",
      " [ 0.4]]\n",
      "u63 [[ 0.6]\n",
      " [ 0.4]]\n",
      "u64 [[ 0.6]\n",
      " [ 0.4]]\n",
      "u65 [[ 0.6]\n",
      " [ 0.4]]\n",
      "u66 [[ 0.6]\n",
      " [ 0.4]]\n",
      "u67 [[ 0.6]\n",
      " [ 0.4]]\n",
      "u68 [[ 0.6]\n",
      " [ 0.4]]\n",
      "u69 [[ 0.6]\n",
      " [ 0.4]]\n",
      "u70 [[ 0.6]\n",
      " [ 0.4]]\n",
      "u71 [[ 0.6]\n",
      " [ 0.4]]\n",
      "u72 [[ 0.6]\n",
      " [ 0.4]]\n",
      "u73 [[ 0.6]\n",
      " [ 0.4]]\n",
      "u74 [[ 0.6]\n",
      " [ 0.4]]\n",
      "u75 [[ 0.6]\n",
      " [ 0.4]]\n",
      "u76 [[ 0.6]\n",
      " [ 0.4]]\n",
      "u77 [[ 0.6]\n",
      " [ 0.4]]\n",
      "u78 [[ 0.6]\n",
      " [ 0.4]]\n",
      "u79 [[ 0.6]\n",
      " [ 0.4]]\n",
      "u80 [[ 0.6]\n",
      " [ 0.4]]\n",
      "u81 [[ 0.6]\n",
      " [ 0.4]]\n",
      "u82 [[ 0.6]\n",
      " [ 0.4]]\n",
      "u83 [[ 0.6]\n",
      " [ 0.4]]\n",
      "u84 [[ 0.6]\n",
      " [ 0.4]]\n",
      "u85 [[ 0.6]\n",
      " [ 0.4]]\n",
      "u86 [[ 0.6]\n",
      " [ 0.4]]\n",
      "u87 [[ 0.6]\n",
      " [ 0.4]]\n",
      "u88 [[ 0.6]\n",
      " [ 0.4]]\n",
      "u89 [[ 0.6]\n",
      " [ 0.4]]\n",
      "u90 [[ 0.6]\n",
      " [ 0.4]]\n",
      "u91 [[ 0.6]\n",
      " [ 0.4]]\n",
      "u92 [[ 0.6]\n",
      " [ 0.4]]\n",
      "u93 [[ 0.6]\n",
      " [ 0.4]]\n",
      "u94 [[ 0.6]\n",
      " [ 0.4]]\n",
      "u95 [[ 0.6]\n",
      " [ 0.4]]\n",
      "u96 [[ 0.6]\n",
      " [ 0.4]]\n",
      "u97 [[ 0.6]\n",
      " [ 0.4]]\n",
      "u98 [[ 0.6]\n",
      " [ 0.4]]\n",
      "u99 [[ 0.6]\n",
      " [ 0.4]]\n",
      "u100 [[ 0.6]\n",
      " [ 0.4]]\n",
      "steady state u [[ 0.6]\n",
      " [ 0.4]]\n"
     ]
    }
   ],
   "source": [
    "#codes for question 9\n",
    "print \"############Question 9###########\"\n",
    "u0 = np.matrix([1,0]).transpose()\n",
    "A = np.matrix([[0.8, 0.3], [0.2, 0.7]])\n",
    "res = [u0]\n",
    "for i in np.arange(1,10,1):\n",
    "    temp = A * res[i-1]\n",
    "    res.append(temp)\n",
    "    print \"u{} {}\".format(i, temp)\n",
    "    \n",
    "# codes for question 10\n",
    "#identtity_matrix = np.matrix([[1.0, 0.0], [0.0, 1.0]])\n",
    "#A = np.matrix([[0.8, 0.3], [0.2, 0.7]])\n",
    "#A = A - identtity_matrix\n",
    "#b = np.matrix([0.0, 0.0]).transpose()\n",
    "#u = LA.solve(A, b)\n",
    "# since we have to start with u0=(1,0), above codes for quesion 10 should be incorrect\n",
    "# We already observed that Au tends to stabilize, we could just repeat Au for sufficient number of times and get an appromiate steady state\n",
    "print \"############Question 10###########\"\n",
    "u0 = np.matrix([1,0]).transpose()\n",
    "A = np.matrix([[0.8, 0.3], [0.2, 0.7]])\n",
    "res = [u0]\n",
    "for i in np.arange(1,101,1):\n",
    "    temp = A * res[i-1]\n",
    "    res.append(temp)\n",
    "    print \"u{} {}\".format(i, temp)\n",
    "print \"steady state u {}\".format(temp)"
   ]
  },
  {
   "cell_type": "code",
   "execution_count": null,
   "metadata": {
    "collapsed": true
   },
   "outputs": [],
   "source": []
  }
 ],
 "metadata": {
  "kernelspec": {
   "display_name": "Python 2",
   "language": "python",
   "name": "python2"
  },
  "language_info": {
   "codemirror_mode": {
    "name": "ipython",
    "version": 2
   },
   "file_extension": ".py",
   "mimetype": "text/x-python",
   "name": "python",
   "nbconvert_exporter": "python",
   "pygments_lexer": "ipython2",
   "version": "2.7.12"
  }
 },
 "nbformat": 4,
 "nbformat_minor": 0
}
